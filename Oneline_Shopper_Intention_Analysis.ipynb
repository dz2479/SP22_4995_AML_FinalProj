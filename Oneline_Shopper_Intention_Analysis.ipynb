{
 "cells": [
  {
   "cell_type": "code",
   "execution_count": null,
   "id": "7dc20a81",
   "metadata": {},
   "outputs": [],
   "source": [
    "\"\"\"\n",
    "Package Import Area\n",
    "\"\"\""
   ]
  },
  {
   "cell_type": "markdown",
   "id": "5792cdca",
   "metadata": {},
   "source": [
    "# 1. Data Visiualization"
   ]
  },
  {
   "cell_type": "code",
   "execution_count": null,
   "id": "df936d9e",
   "metadata": {},
   "outputs": [],
   "source": [
    "\"\"\"\n",
    "1. Data Import\n",
    "2. Basic Statistic Summary\n",
    "3. Missing Data Visualization\n",
    "4. Numerical features exploration\n",
    "5. Categorical features exploration\n",
    "\"\"\""
   ]
  },
  {
   "cell_type": "markdown",
   "id": "35e0b0c1",
   "metadata": {},
   "source": [
    "# 2. Data Cleaning"
   ]
  },
  {
   "cell_type": "code",
   "execution_count": 1,
   "id": "5b5282bd",
   "metadata": {},
   "outputs": [
    {
     "data": {
      "text/plain": [
       "'\\n1. Missing Data (Impute / delete)\\n2. Standardize?\\n3. Outliers?\\n4. Data Split\\n'"
      ]
     },
     "execution_count": 1,
     "metadata": {},
     "output_type": "execute_result"
    }
   ],
   "source": [
    "\"\"\"\n",
    "1. Missing Data (Impute / delete)\n",
    "2. Standardize?\n",
    "3. Outliers?\n",
    "4. Data Split\n",
    "\"\"\""
   ]
  },
  {
   "cell_type": "code",
   "execution_count": null,
   "id": "4f09d60e",
   "metadata": {},
   "outputs": [],
   "source": []
  }
 ],
 "metadata": {
  "kernelspec": {
   "display_name": "Python 3",
   "language": "python",
   "name": "python3"
  },
  "language_info": {
   "codemirror_mode": {
    "name": "ipython",
    "version": 3
   },
   "file_extension": ".py",
   "mimetype": "text/x-python",
   "name": "python",
   "nbconvert_exporter": "python",
   "pygments_lexer": "ipython3",
   "version": "3.8.8"
  }
 },
 "nbformat": 4,
 "nbformat_minor": 5
}
