{
 "cells": [
  {
   "cell_type": "code",
   "execution_count": 48,
   "id": "7dc20a81",
   "metadata": {},
   "outputs": [],
   "source": [
    "import numpy as np\n",
    "import pandas as pd\n",
    "\n",
    "import matplotlib.pyplot as plt\n",
    "import seaborn as sns"
   ]
  },
  {
   "cell_type": "markdown",
   "id": "5792cdca",
   "metadata": {},
   "source": [
    "# 1. Data Visiualization"
   ]
  },
  {
   "cell_type": "code",
   "execution_count": 49,
   "id": "df936d9e",
   "metadata": {},
   "outputs": [
    {
     "data": {
      "text/plain": [
       "'\\n1. Data Import\\n2. Basic Statistic Summary\\n3. Numerical features exploration\\n4. Categorical features exploration\\n5. Missing Data Visualization\\n'"
      ]
     },
     "execution_count": 49,
     "metadata": {},
     "output_type": "execute_result"
    }
   ],
   "source": [
    "\"\"\"\n",
    "1. Data Import\n",
    "2. Basic Statistic Summary\n",
    "3. Numerical features exploration\n",
    "4. Categorical features exploration\n",
    "5. Missing Data Visualization\n",
    "\"\"\""
   ]
  },
  {
   "cell_type": "code",
   "execution_count": 50,
   "id": "684eafca",
   "metadata": {},
   "outputs": [
    {
     "data": {
      "text/plain": [
       "(12330, 19)"
      ]
     },
     "execution_count": 50,
     "metadata": {},
     "output_type": "execute_result"
    }
   ],
   "source": [
    "# reading the dataset\n",
    "data = pd.read_csv('./dataset.csv')\n",
    "# checking the shape of the data\n",
    "data.shape"
   ]
  },
  {
   "cell_type": "code",
   "execution_count": 51,
   "id": "cbaef130",
   "metadata": {},
   "outputs": [
    {
     "data": {
      "text/html": [
       "<div>\n",
       "<style scoped>\n",
       "    .dataframe tbody tr th:only-of-type {\n",
       "        vertical-align: middle;\n",
       "    }\n",
       "\n",
       "    .dataframe tbody tr th {\n",
       "        vertical-align: top;\n",
       "    }\n",
       "\n",
       "    .dataframe thead th {\n",
       "        text-align: right;\n",
       "    }\n",
       "</style>\n",
       "<table border=\"1\" class=\"dataframe\">\n",
       "  <thead>\n",
       "    <tr style=\"text-align: right;\">\n",
       "      <th></th>\n",
       "      <th>Unnamed: 0</th>\n",
       "      <th>Administrative</th>\n",
       "      <th>Administrative_Duration</th>\n",
       "      <th>Informational</th>\n",
       "      <th>Informational_Duration</th>\n",
       "      <th>ProductRelated</th>\n",
       "      <th>ProductRelated_Duration</th>\n",
       "      <th>BounceRates</th>\n",
       "      <th>ExitRates</th>\n",
       "    </tr>\n",
       "  </thead>\n",
       "  <tbody>\n",
       "    <tr>\n",
       "      <th>count</th>\n",
       "      <td>12330.000000</td>\n",
       "      <td>12316.000000</td>\n",
       "      <td>12316.000000</td>\n",
       "      <td>12316.000000</td>\n",
       "      <td>12316.000000</td>\n",
       "      <td>12316.000000</td>\n",
       "      <td>12316.000000</td>\n",
       "      <td>12316.000000</td>\n",
       "      <td>12316.000000</td>\n",
       "    </tr>\n",
       "    <tr>\n",
       "      <th>mean</th>\n",
       "      <td>6164.500000</td>\n",
       "      <td>2.317798</td>\n",
       "      <td>80.906176</td>\n",
       "      <td>0.503979</td>\n",
       "      <td>34.506387</td>\n",
       "      <td>31.763884</td>\n",
       "      <td>1196.037057</td>\n",
       "      <td>0.022152</td>\n",
       "      <td>0.043003</td>\n",
       "    </tr>\n",
       "    <tr>\n",
       "      <th>std</th>\n",
       "      <td>3559.508744</td>\n",
       "      <td>3.322754</td>\n",
       "      <td>176.860432</td>\n",
       "      <td>1.270701</td>\n",
       "      <td>140.825479</td>\n",
       "      <td>44.490339</td>\n",
       "      <td>1914.372511</td>\n",
       "      <td>0.048427</td>\n",
       "      <td>0.048527</td>\n",
       "    </tr>\n",
       "    <tr>\n",
       "      <th>min</th>\n",
       "      <td>0.000000</td>\n",
       "      <td>0.000000</td>\n",
       "      <td>-1.000000</td>\n",
       "      <td>0.000000</td>\n",
       "      <td>-1.000000</td>\n",
       "      <td>0.000000</td>\n",
       "      <td>-1.000000</td>\n",
       "      <td>0.000000</td>\n",
       "      <td>0.000000</td>\n",
       "    </tr>\n",
       "    <tr>\n",
       "      <th>25%</th>\n",
       "      <td>3082.250000</td>\n",
       "      <td>0.000000</td>\n",
       "      <td>0.000000</td>\n",
       "      <td>0.000000</td>\n",
       "      <td>0.000000</td>\n",
       "      <td>7.000000</td>\n",
       "      <td>185.000000</td>\n",
       "      <td>0.000000</td>\n",
       "      <td>0.014286</td>\n",
       "    </tr>\n",
       "    <tr>\n",
       "      <th>50%</th>\n",
       "      <td>6164.500000</td>\n",
       "      <td>1.000000</td>\n",
       "      <td>8.000000</td>\n",
       "      <td>0.000000</td>\n",
       "      <td>0.000000</td>\n",
       "      <td>18.000000</td>\n",
       "      <td>599.766190</td>\n",
       "      <td>0.003119</td>\n",
       "      <td>0.025124</td>\n",
       "    </tr>\n",
       "    <tr>\n",
       "      <th>75%</th>\n",
       "      <td>9246.750000</td>\n",
       "      <td>4.000000</td>\n",
       "      <td>93.500000</td>\n",
       "      <td>0.000000</td>\n",
       "      <td>0.000000</td>\n",
       "      <td>38.000000</td>\n",
       "      <td>1466.479902</td>\n",
       "      <td>0.016684</td>\n",
       "      <td>0.050000</td>\n",
       "    </tr>\n",
       "    <tr>\n",
       "      <th>max</th>\n",
       "      <td>12329.000000</td>\n",
       "      <td>27.000000</td>\n",
       "      <td>3398.750000</td>\n",
       "      <td>24.000000</td>\n",
       "      <td>2549.375000</td>\n",
       "      <td>705.000000</td>\n",
       "      <td>63973.522230</td>\n",
       "      <td>0.200000</td>\n",
       "      <td>0.200000</td>\n",
       "    </tr>\n",
       "  </tbody>\n",
       "</table>\n",
       "</div>"
      ],
      "text/plain": [
       "         Unnamed: 0  Administrative  Administrative_Duration  Informational  \\\n",
       "count  12330.000000    12316.000000             12316.000000   12316.000000   \n",
       "mean    6164.500000        2.317798                80.906176       0.503979   \n",
       "std     3559.508744        3.322754               176.860432       1.270701   \n",
       "min        0.000000        0.000000                -1.000000       0.000000   \n",
       "25%     3082.250000        0.000000                 0.000000       0.000000   \n",
       "50%     6164.500000        1.000000                 8.000000       0.000000   \n",
       "75%     9246.750000        4.000000                93.500000       0.000000   \n",
       "max    12329.000000       27.000000              3398.750000      24.000000   \n",
       "\n",
       "       Informational_Duration  ProductRelated  ProductRelated_Duration  \\\n",
       "count            12316.000000    12316.000000             12316.000000   \n",
       "mean                34.506387       31.763884              1196.037057   \n",
       "std                140.825479       44.490339              1914.372511   \n",
       "min                 -1.000000        0.000000                -1.000000   \n",
       "25%                  0.000000        7.000000               185.000000   \n",
       "50%                  0.000000       18.000000               599.766190   \n",
       "75%                  0.000000       38.000000              1466.479902   \n",
       "max               2549.375000      705.000000             63973.522230   \n",
       "\n",
       "        BounceRates     ExitRates  \n",
       "count  12316.000000  12316.000000  \n",
       "mean       0.022152      0.043003  \n",
       "std        0.048427      0.048527  \n",
       "min        0.000000      0.000000  \n",
       "25%        0.000000      0.014286  \n",
       "50%        0.003119      0.025124  \n",
       "75%        0.016684      0.050000  \n",
       "max        0.200000      0.200000  "
      ]
     },
     "execution_count": 51,
     "metadata": {},
     "output_type": "execute_result"
    }
   ],
   "source": [
    "# Summarize numerial features\n",
    "data[data.columns[:9]].describe()"
   ]
  },
  {
   "cell_type": "code",
   "execution_count": 52,
   "id": "4cf38100",
   "metadata": {},
   "outputs": [
    {
     "data": {
      "image/png": "[encoded data removed]",
      "text/plain": [
       "<Figure size 1440x576 with 8 Axes>"
      ]
     },
     "metadata": {
      "needs_background": "light"
     },
     "output_type": "display_data"
    }
   ],
   "source": [
    "# Summarize categorical features\n",
    "cat_features = ['SpecialDay', 'Month', 'OperatingSystems', 'Browser', 'Region', 'TrafficType', 'VisitorType', 'Weekend']\n",
    "fig, axes = plt.subplots(2, 4, figsize=(20, 8))\n",
    "for idx, cat in enumerate(cat_features):\n",
    "    stat_by_cat = data.groupby(by = [cat,'Revenue']).agg(count =('Revenue', 'count')).reset_index()\n",
    "    sns.barplot(ax = axes[idx//4, idx % 4], x = cat, y = 'count', hue='Revenue', data=stat_by_cat)"
   ]
  },
  {
   "cell_type": "code",
   "execution_count": 53,
   "id": "f4bbaa59",
   "metadata": {},
   "outputs": [
    {
     "name": "stderr",
     "output_type": "stream",
     "text": [
      "C:\\Users\\elinw\\anaconda3\\lib\\site-packages\\seaborn\\_decorators.py:36: FutureWarning: Pass the following variables as keyword args: x, y. From version 0.12, the only valid positional argument will be `data`, and passing other arguments without an explicit keyword will result in an error or misinterpretation.\n",
      "  warnings.warn(\n",
      "C:\\Users\\elinw\\anaconda3\\lib\\site-packages\\seaborn\\_decorators.py:36: FutureWarning: Pass the following variables as keyword args: x, y. From version 0.12, the only valid positional argument will be `data`, and passing other arguments without an explicit keyword will result in an error or misinterpretation.\n",
      "  warnings.warn(\n",
      "C:\\Users\\elinw\\anaconda3\\lib\\site-packages\\seaborn\\_decorators.py:36: FutureWarning: Pass the following variables as keyword args: x, y. From version 0.12, the only valid positional argument will be `data`, and passing other arguments without an explicit keyword will result in an error or misinterpretation.\n",
      "  warnings.warn(\n"
     ]
    },
    {
     "data": {
      "text/plain": [
       "Text(0, 0.5, 'Revenue')"
      ]
     },
     "execution_count": 53,
     "metadata": {},
     "output_type": "execute_result"
    },
    {
     "data": {
      "image/png": "[encoded data removed]",
      "text/plain": [
       "<Figure size 432x288 with 3 Axes>"
      ]
     },
     "metadata": {
      "needs_background": "light"
     },
     "output_type": "display_data"
    }
   ],
   "source": [
    "# Quantitative measures VS target\n",
    "\n",
    "# bounce rates vs revenue\n",
    "plt.subplot(1, 3, 1)\n",
    "sns.stripplot(data['Revenue'], data['BounceRates'], palette = 'magma')\n",
    "plt.title('Bounce Rates vs Revenue', fontsize = 20)\n",
    "plt.xlabel('Boune Rates', fontsize = 15)\n",
    "plt.ylabel('Revenue', fontsize = 15)\n",
    "\n",
    "# Exit rates vs revenue\n",
    "plt.subplot(1, 3, 2)\n",
    "sns.stripplot(data['Revenue'], data['ExitRates'], palette = 'autumn')\n",
    "plt.title('ExitRates vs Revenue', fontsize = 20)\n",
    "plt.xlabel('ExitRates', fontsize = 15)\n",
    "plt.ylabel('Revenue', fontsize = 15)\n",
    "\n",
    "# Page values vs revenue\n",
    "plt.subplot(1, 3, 3)\n",
    "sns.stripplot(data['Revenue'], data['PageValues'], palette = 'rainbow')\n",
    "plt.title('PageValues vs Revenue', fontsize = 20)\n",
    "plt.xlabel('PageValues', fontsize = 15)\n",
    "plt.ylabel('Revenue', fontsize = 15)"
   ]
  },
  {
   "cell_type": "code",
   "execution_count": 54,
   "id": "69c5bfb3",
   "metadata": {},
   "outputs": [
    {
     "data": {
      "image/png": "[encoded data removed]",
      "text/plain": [
       "<Figure size 1440x432 with 1 Axes>"
      ]
     },
     "metadata": {
      "needs_background": "light"
     },
     "output_type": "display_data"
    }
   ],
   "source": [
    "# Plot the percentages of missing data\n",
    "data_missing_perc = data.isnull().sum()/data.shape[0]\n",
    "fit = plt.figure(figsize = (20,6))\n",
    "ax = sns.barplot(x = data_missing_perc.index, y = data_missing_perc.values)\n",
    "ax.tick_params(axis = 'x', rotation=60)"
   ]
  },
  {
   "cell_type": "markdown",
   "id": "35e0b0c1",
   "metadata": {},
   "source": [
    "# 2. Data Cleaning"
   ]
  },
  {
   "cell_type": "code",
   "execution_count": 55,
   "id": "9b482424",
   "metadata": {},
   "outputs": [
    {
     "data": {
      "text/plain": [
       "'\\n1. Missing Data (Impute / delete)\\n2. Standardize?\\n3. Outliers?\\n4. Data Split\\n'"
      ]
     },
     "execution_count": 55,
     "metadata": {},
     "output_type": "execute_result"
    }
   ],
   "source": [
    "\"\"\"\n",
    "1. Missing Data (Impute / delete)\n",
    "2. Standardize?\n",
    "3. Outliers?\n",
    "4. Data Split\n",
    "\"\"\""
   ]
  },
  {
   "cell_type": "code",
   "execution_count": 56,
   "id": "a8a67e36",
   "metadata": {},
   "outputs": [
    {
     "data": {
      "text/plain": [
       "Unnamed: 0                  0\n",
       "Administrative             14\n",
       "Administrative_Duration    14\n",
       "Informational              14\n",
       "Informational_Duration     14\n",
       "ProductRelated             14\n",
       "ProductRelated_Duration    14\n",
       "BounceRates                14\n",
       "ExitRates                  14\n",
       "PageValues                  0\n",
       "SpecialDay                  0\n",
       "Month                       0\n",
       "OperatingSystems            0\n",
       "Browser                     0\n",
       "Region                      0\n",
       "TrafficType                 0\n",
       "VisitorType                 0\n",
       "Weekend                     0\n",
       "Revenue                     0\n",
       "dtype: int64"
      ]
     },
     "execution_count": 56,
     "metadata": {},
     "output_type": "execute_result"
    }
   ],
   "source": [
    "# Missing Data\n",
    "data.isna().sum()"
   ]
  },
  {
   "cell_type": "code",
   "execution_count": 57,
   "id": "ed27443f",
   "metadata": {},
   "outputs": [
    {
     "data": {
      "text/plain": [
       "Unnamed: 0                 0\n",
       "Administrative             0\n",
       "Administrative_Duration    0\n",
       "Informational              0\n",
       "Informational_Duration     0\n",
       "ProductRelated             0\n",
       "ProductRelated_Duration    0\n",
       "BounceRates                0\n",
       "ExitRates                  0\n",
       "PageValues                 0\n",
       "SpecialDay                 0\n",
       "Month                      0\n",
       "OperatingSystems           0\n",
       "Browser                    0\n",
       "Region                     0\n",
       "TrafficType                0\n",
       "VisitorType                0\n",
       "Weekend                    0\n",
       "Revenue                    0\n",
       "dtype: int64"
      ]
     },
     "execution_count": 57,
     "metadata": {},
     "output_type": "execute_result"
    }
   ],
   "source": [
    "# Impute the missing values with mean\n",
    "# Since the percentage of missing values is low, we impute the missing values with mean.\n",
    "from sklearn.impute import SimpleImputer\n",
    "\n",
    "columns = ['Administrative','Administrative_Duration','Informational','Informational_Duration','ProductRelated','ProductRelated_Duration','BounceRates','ExitRates']\n",
    "imp_mean = SimpleImputer(missing_values=np.nan, strategy='mean')\n",
    "for col in columns:\n",
    "    imputed_col = imp_mean.fit_transform(np.array(data[col]).reshape(-1,1))\n",
    "    data.drop([col], axis=1)\n",
    "    data[col] = imputed_col\n",
    "    \n",
    "# To confirm no missing values left (i.e., sum should be 0)\n",
    "data.isna().sum()"
   ]
  },
  {
   "cell_type": "code",
   "execution_count": 58,
   "id": "65bd374a",
   "metadata": {},
   "outputs": [
    {
     "name": "stdout",
     "output_type": "stream",
     "text": [
      "False    0.845255\n",
      "True     0.154745\n",
      "Name: Revenue, dtype: float64\n"
     ]
    }
   ],
   "source": [
    "# Split dataset into development and test datasets.\n",
    "\n",
    "print(data['Revenue'].value_counts()/len(data))\n",
    "\n",
    "# Since the dataset is imbalanced, we use stratified dataset split.\n",
    "from sklearn.model_selection import train_test_split\n",
    "\n",
    "y = data['Revenue']\n",
    "X = data.drop(['Revenue'], axis=1)\n",
    "\n",
    "X_dev, X_test, y_dev, y_test = train_test_split(X, y, test_size=0.2, stratify=y, random_state=0) "
   ]
  },
  {
   "cell_type": "code",
   "execution_count": 59,
   "id": "8a744322",
   "metadata": {},
   "outputs": [
    {
     "data": {
      "text/plain": [
       "False    0.845296\n",
       "True     0.154704\n",
       "Name: Revenue, dtype: float64"
      ]
     },
     "execution_count": 59,
     "metadata": {},
     "output_type": "execute_result"
    }
   ],
   "source": [
    "y_dev.value_counts()/len(y_dev)"
   ]
  },
  {
   "cell_type": "code",
   "execution_count": 60,
   "id": "22cdec59",
   "metadata": {},
   "outputs": [
    {
     "data": {
      "text/plain": [
       "False    0.845093\n",
       "True     0.154907\n",
       "Name: Revenue, dtype: float64"
      ]
     },
     "execution_count": 60,
     "metadata": {},
     "output_type": "execute_result"
    }
   ],
   "source": [
    "y_test.value_counts()/len(y_test)"
   ]
  },
  {
   "cell_type": "code",
   "execution_count": 61,
   "id": "cfd7ff3c",
   "metadata": {},
   "outputs": [],
   "source": [
    "# Apply Standard Scaling to numerical features\n",
    "X_dev_num = X_dev[X_dev.columns[:9]]\n",
    "X_test_num = X_test[X_dev.columns[:9]]\n",
    "\n",
    "from sklearn.preprocessing import StandardScaler\n",
    "ss = StandardScaler()\n",
    "X_dev_num_scaled = ss.fit_transform(X_dev_num)\n",
    "X_test_num_scaled = ss.transform(X_test_num)\n",
    "\n",
    "X_dev_scaled = pd.concat([pd.DataFrame(X_dev_num_scaled, columns=X_dev_num.columns), X_dev[X_dev.columns[9:]]], axis=1)\n",
    "X_test_scaled = pd.concat([pd.DataFrame(X_test_num_scaled, columns=X_test_num.columns), X_test[X_dev.columns[9:]]], axis=1)"
   ]
  },
  {
   "cell_type": "code",
   "execution_count": 62,
   "id": "4a75bd4b",
   "metadata": {},
   "outputs": [
    {
     "name": "stdout",
     "output_type": "stream",
     "text": [
      "(11844, 18)\n",
      "(4456, 18)\n"
     ]
    }
   ],
   "source": [
    "print(X_dev_scaled.shape)\n",
    "print(X_test_scaled.shape)"
   ]
  },
  {
   "cell_type": "code",
   "execution_count": 63,
   "id": "ed2da2a5",
   "metadata": {},
   "outputs": [
    {
     "data": {
      "text/html": [
       "<div>\n",
       "<style scoped>\n",
       "    .dataframe tbody tr th:only-of-type {\n",
       "        vertical-align: middle;\n",
       "    }\n",
       "\n",
       "    .dataframe tbody tr th {\n",
       "        vertical-align: top;\n",
       "    }\n",
       "\n",
       "    .dataframe thead th {\n",
       "        text-align: right;\n",
       "    }\n",
       "</style>\n",
       "<table border=\"1\" class=\"dataframe\">\n",
       "  <thead>\n",
       "    <tr style=\"text-align: right;\">\n",
       "      <th></th>\n",
       "      <th>Unnamed: 0</th>\n",
       "      <th>Administrative</th>\n",
       "      <th>Administrative_Duration</th>\n",
       "      <th>Informational</th>\n",
       "      <th>Informational_Duration</th>\n",
       "      <th>ProductRelated</th>\n",
       "      <th>ProductRelated_Duration</th>\n",
       "      <th>BounceRates</th>\n",
       "      <th>ExitRates</th>\n",
       "    </tr>\n",
       "  </thead>\n",
       "  <tbody>\n",
       "    <tr>\n",
       "      <th>count</th>\n",
       "      <td>9.864000e+03</td>\n",
       "      <td>9.864000e+03</td>\n",
       "      <td>9.864000e+03</td>\n",
       "      <td>9.864000e+03</td>\n",
       "      <td>9.864000e+03</td>\n",
       "      <td>9.864000e+03</td>\n",
       "      <td>9.864000e+03</td>\n",
       "      <td>9.864000e+03</td>\n",
       "      <td>9.864000e+03</td>\n",
       "    </tr>\n",
       "    <tr>\n",
       "      <th>mean</th>\n",
       "      <td>-2.006820e-17</td>\n",
       "      <td>-3.497248e-16</td>\n",
       "      <td>-2.718718e-16</td>\n",
       "      <td>1.848109e-15</td>\n",
       "      <td>-1.710862e-16</td>\n",
       "      <td>2.687203e-19</td>\n",
       "      <td>9.328395e-17</td>\n",
       "      <td>-1.413666e-17</td>\n",
       "      <td>-1.057998e-18</td>\n",
       "    </tr>\n",
       "    <tr>\n",
       "      <th>std</th>\n",
       "      <td>1.000051e+00</td>\n",
       "      <td>1.000051e+00</td>\n",
       "      <td>1.000051e+00</td>\n",
       "      <td>1.000051e+00</td>\n",
       "      <td>1.000051e+00</td>\n",
       "      <td>1.000051e+00</td>\n",
       "      <td>1.000051e+00</td>\n",
       "      <td>1.000051e+00</td>\n",
       "      <td>1.000051e+00</td>\n",
       "    </tr>\n",
       "    <tr>\n",
       "      <th>min</th>\n",
       "      <td>-1.730587e+00</td>\n",
       "      <td>-6.995790e-01</td>\n",
       "      <td>-4.739634e-01</td>\n",
       "      <td>-3.915552e-01</td>\n",
       "      <td>-2.514931e-01</td>\n",
       "      <td>-7.083911e-01</td>\n",
       "      <td>-6.422069e-01</td>\n",
       "      <td>-4.597165e-01</td>\n",
       "      <td>-8.826000e-01</td>\n",
       "    </tr>\n",
       "    <tr>\n",
       "      <th>25%</th>\n",
       "      <td>-8.690905e-01</td>\n",
       "      <td>-6.995790e-01</td>\n",
       "      <td>-4.680741e-01</td>\n",
       "      <td>-3.915552e-01</td>\n",
       "      <td>-2.443484e-01</td>\n",
       "      <td>-5.525700e-01</td>\n",
       "      <td>-5.430344e-01</td>\n",
       "      <td>-4.597165e-01</td>\n",
       "      <td>-5.900365e-01</td>\n",
       "    </tr>\n",
       "    <tr>\n",
       "      <th>50%</th>\n",
       "      <td>2.692650e-04</td>\n",
       "      <td>-3.992041e-01</td>\n",
       "      <td>-4.209601e-01</td>\n",
       "      <td>-3.915552e-01</td>\n",
       "      <td>-2.443484e-01</td>\n",
       "      <td>-3.077082e-01</td>\n",
       "      <td>-3.200680e-01</td>\n",
       "      <td>-3.946512e-01</td>\n",
       "      <td>-3.637178e-01</td>\n",
       "    </tr>\n",
       "    <tr>\n",
       "      <th>75%</th>\n",
       "      <td>8.665399e-01</td>\n",
       "      <td>5.019205e-01</td>\n",
       "      <td>7.749143e-02</td>\n",
       "      <td>-3.915552e-01</td>\n",
       "      <td>-2.443484e-01</td>\n",
       "      <td>1.374951e-01</td>\n",
       "      <td>1.487357e-01</td>\n",
       "      <td>-1.091264e-01</td>\n",
       "      <td>1.413720e-01</td>\n",
       "    </tr>\n",
       "    <tr>\n",
       "      <th>max</th>\n",
       "      <td>1.731406e+00</td>\n",
       "      <td>7.410543e+00</td>\n",
       "      <td>1.518154e+01</td>\n",
       "      <td>1.822921e+01</td>\n",
       "      <td>1.588062e+01</td>\n",
       "      <td>1.498502e+01</td>\n",
       "      <td>2.255719e+01</td>\n",
       "      <td>3.630501e+00</td>\n",
       "      <td>3.213288e+00</td>\n",
       "    </tr>\n",
       "  </tbody>\n",
       "</table>\n",
       "</div>"
      ],
      "text/plain": [
       "         Unnamed: 0  Administrative  Administrative_Duration  Informational  \\\n",
       "count  9.864000e+03    9.864000e+03             9.864000e+03   9.864000e+03   \n",
       "mean  -2.006820e-17   -3.497248e-16            -2.718718e-16   1.848109e-15   \n",
       "std    1.000051e+00    1.000051e+00             1.000051e+00   1.000051e+00   \n",
       "min   -1.730587e+00   -6.995790e-01            -4.739634e-01  -3.915552e-01   \n",
       "25%   -8.690905e-01   -6.995790e-01            -4.680741e-01  -3.915552e-01   \n",
       "50%    2.692650e-04   -3.992041e-01            -4.209601e-01  -3.915552e-01   \n",
       "75%    8.665399e-01    5.019205e-01             7.749143e-02  -3.915552e-01   \n",
       "max    1.731406e+00    7.410543e+00             1.518154e+01   1.822921e+01   \n",
       "\n",
       "       Informational_Duration  ProductRelated  ProductRelated_Duration  \\\n",
       "count            9.864000e+03    9.864000e+03             9.864000e+03   \n",
       "mean            -1.710862e-16    2.687203e-19             9.328395e-17   \n",
       "std              1.000051e+00    1.000051e+00             1.000051e+00   \n",
       "min             -2.514931e-01   -7.083911e-01            -6.422069e-01   \n",
       "25%             -2.443484e-01   -5.525700e-01            -5.430344e-01   \n",
       "50%             -2.443484e-01   -3.077082e-01            -3.200680e-01   \n",
       "75%             -2.443484e-01    1.374951e-01             1.487357e-01   \n",
       "max              1.588062e+01    1.498502e+01             2.255719e+01   \n",
       "\n",
       "        BounceRates     ExitRates  \n",
       "count  9.864000e+03  9.864000e+03  \n",
       "mean  -1.413666e-17 -1.057998e-18  \n",
       "std    1.000051e+00  1.000051e+00  \n",
       "min   -4.597165e-01 -8.826000e-01  \n",
       "25%   -4.597165e-01 -5.900365e-01  \n",
       "50%   -3.946512e-01 -3.637178e-01  \n",
       "75%   -1.091264e-01  1.413720e-01  \n",
       "max    3.630501e+00  3.213288e+00  "
      ]
     },
     "execution_count": 63,
     "metadata": {},
     "output_type": "execute_result"
    }
   ],
   "source": [
    "X_dev_scaled[X_dev_scaled.columns[:9]].describe()"
   ]
  },
  {
   "cell_type": "code",
   "execution_count": 64,
   "id": "e9e03135",
   "metadata": {},
   "outputs": [
    {
     "data": {
      "text/html": [
       "<div>\n",
       "<style scoped>\n",
       "    .dataframe tbody tr th:only-of-type {\n",
       "        vertical-align: middle;\n",
       "    }\n",
       "\n",
       "    .dataframe tbody tr th {\n",
       "        vertical-align: top;\n",
       "    }\n",
       "\n",
       "    .dataframe thead th {\n",
       "        text-align: right;\n",
       "    }\n",
       "</style>\n",
       "<table border=\"1\" class=\"dataframe\">\n",
       "  <thead>\n",
       "    <tr style=\"text-align: right;\">\n",
       "      <th></th>\n",
       "      <th>Unnamed: 0</th>\n",
       "      <th>Administrative</th>\n",
       "      <th>Administrative_Duration</th>\n",
       "      <th>Informational</th>\n",
       "      <th>Informational_Duration</th>\n",
       "      <th>ProductRelated</th>\n",
       "      <th>ProductRelated_Duration</th>\n",
       "      <th>BounceRates</th>\n",
       "      <th>ExitRates</th>\n",
       "    </tr>\n",
       "  </thead>\n",
       "  <tbody>\n",
       "    <tr>\n",
       "      <th>count</th>\n",
       "      <td>2466.000000</td>\n",
       "      <td>2466.000000</td>\n",
       "      <td>2466.000000</td>\n",
       "      <td>2466.000000</td>\n",
       "      <td>2466.000000</td>\n",
       "      <td>2466.000000</td>\n",
       "      <td>2466.000000</td>\n",
       "      <td>2466.000000</td>\n",
       "      <td>2466.000000</td>\n",
       "    </tr>\n",
       "    <tr>\n",
       "      <th>mean</th>\n",
       "      <td>0.001346</td>\n",
       "      <td>-0.016853</td>\n",
       "      <td>0.042014</td>\n",
       "      <td>-0.002679</td>\n",
       "      <td>0.010946</td>\n",
       "      <td>-0.006609</td>\n",
       "      <td>0.005215</td>\n",
       "      <td>-0.033372</td>\n",
       "      <td>-0.009660</td>\n",
       "    </tr>\n",
       "    <tr>\n",
       "      <th>std</th>\n",
       "      <td>0.997968</td>\n",
       "      <td>0.987343</td>\n",
       "      <td>1.190362</td>\n",
       "      <td>0.924312</td>\n",
       "      <td>1.027574</td>\n",
       "      <td>0.947866</td>\n",
       "      <td>1.133764</td>\n",
       "      <td>0.947546</td>\n",
       "      <td>0.965716</td>\n",
       "    </tr>\n",
       "    <tr>\n",
       "      <th>min</th>\n",
       "      <td>-1.730868</td>\n",
       "      <td>-0.699579</td>\n",
       "      <td>-0.473963</td>\n",
       "      <td>-0.391555</td>\n",
       "      <td>-0.251493</td>\n",
       "      <td>-0.708391</td>\n",
       "      <td>-0.642207</td>\n",
       "      <td>-0.459716</td>\n",
       "      <td>-0.882600</td>\n",
       "    </tr>\n",
       "    <tr>\n",
       "      <th>25%</th>\n",
       "      <td>-0.851960</td>\n",
       "      <td>-0.699579</td>\n",
       "      <td>-0.468074</td>\n",
       "      <td>-0.391555</td>\n",
       "      <td>-0.244348</td>\n",
       "      <td>-0.552570</td>\n",
       "      <td>-0.534868</td>\n",
       "      <td>-0.459716</td>\n",
       "      <td>-0.590037</td>\n",
       "    </tr>\n",
       "    <tr>\n",
       "      <th>50%</th>\n",
       "      <td>0.000410</td>\n",
       "      <td>-0.399204</td>\n",
       "      <td>-0.426849</td>\n",
       "      <td>-0.391555</td>\n",
       "      <td>-0.244348</td>\n",
       "      <td>-0.307708</td>\n",
       "      <td>-0.314159</td>\n",
       "      <td>-0.401117</td>\n",
       "      <td>-0.370614</td>\n",
       "    </tr>\n",
       "    <tr>\n",
       "      <th>75%</th>\n",
       "      <td>0.861204</td>\n",
       "      <td>0.201546</td>\n",
       "      <td>0.094202</td>\n",
       "      <td>-0.391555</td>\n",
       "      <td>-0.244348</td>\n",
       "      <td>0.137495</td>\n",
       "      <td>0.132823</td>\n",
       "      <td>-0.118865</td>\n",
       "      <td>0.141372</td>\n",
       "    </tr>\n",
       "    <tr>\n",
       "      <th>max</th>\n",
       "      <td>1.725509</td>\n",
       "      <td>6.509418</td>\n",
       "      <td>19.548020</td>\n",
       "      <td>8.918827</td>\n",
       "      <td>17.970148</td>\n",
       "      <td>11.178536</td>\n",
       "      <td>33.735680</td>\n",
       "      <td>3.630501</td>\n",
       "      <td>3.213288</td>\n",
       "    </tr>\n",
       "  </tbody>\n",
       "</table>\n",
       "</div>"
      ],
      "text/plain": [
       "        Unnamed: 0  Administrative  Administrative_Duration  Informational  \\\n",
       "count  2466.000000     2466.000000              2466.000000    2466.000000   \n",
       "mean      0.001346       -0.016853                 0.042014      -0.002679   \n",
       "std       0.997968        0.987343                 1.190362       0.924312   \n",
       "min      -1.730868       -0.699579                -0.473963      -0.391555   \n",
       "25%      -0.851960       -0.699579                -0.468074      -0.391555   \n",
       "50%       0.000410       -0.399204                -0.426849      -0.391555   \n",
       "75%       0.861204        0.201546                 0.094202      -0.391555   \n",
       "max       1.725509        6.509418                19.548020       8.918827   \n",
       "\n",
       "       Informational_Duration  ProductRelated  ProductRelated_Duration  \\\n",
       "count             2466.000000     2466.000000              2466.000000   \n",
       "mean                 0.010946       -0.006609                 0.005215   \n",
       "std                  1.027574        0.947866                 1.133764   \n",
       "min                 -0.251493       -0.708391                -0.642207   \n",
       "25%                 -0.244348       -0.552570                -0.534868   \n",
       "50%                 -0.244348       -0.307708                -0.314159   \n",
       "75%                 -0.244348        0.137495                 0.132823   \n",
       "max                 17.970148       11.178536                33.735680   \n",
       "\n",
       "       BounceRates    ExitRates  \n",
       "count  2466.000000  2466.000000  \n",
       "mean     -0.033372    -0.009660  \n",
       "std       0.947546     0.965716  \n",
       "min      -0.459716    -0.882600  \n",
       "25%      -0.459716    -0.590037  \n",
       "50%      -0.401117    -0.370614  \n",
       "75%      -0.118865     0.141372  \n",
       "max       3.630501     3.213288  "
      ]
     },
     "execution_count": 64,
     "metadata": {},
     "output_type": "execute_result"
    }
   ],
   "source": [
    "X_test_scaled[X_test_scaled.columns[:9]].describe()"
   ]
  },
  {
   "cell_type": "markdown",
   "id": "f0dcff33",
   "metadata": {},
   "source": [
    "Outliers are left intact because depending on the model we train, outliers may not negatively impact the results."
   ]
  },
  {
   "cell_type": "markdown",
   "id": "e15eb0da",
   "metadata": {},
   "source": [
    "# 3. Model Training"
   ]
  },
  {
   "cell_type": "code",
   "execution_count": 65,
   "id": "b9433cca",
   "metadata": {},
   "outputs": [
    {
     "data": {
      "text/plain": [
       "'\\n1. Hyperparameter Tuning\\n2. Model Selection\\n3. etc.,\\n'"
      ]
     },
     "execution_count": 65,
     "metadata": {},
     "output_type": "execute_result"
    }
   ],
   "source": [
    "\"\"\"\n",
    "1. Hyperparameter Tuning\n",
    "2. Model Selection\n",
    "3. etc.,\n",
    "\"\"\""
   ]
  },
  {
   "cell_type": "code",
   "execution_count": null,
   "id": "902de066",
   "metadata": {},
   "outputs": [],
   "source": [
    "# The following are the preprocessed data\n",
    "X_dev_scaled\n",
    "y_dev\n",
    "X_test_scaled\n",
    "y_test"
   ]
  }
 ],
 "metadata": {
  "kernelspec": {
   "display_name": "Python 3 (ipykernel)",
   "language": "python",
   "name": "python3"
  },
  "language_info": {
   "codemirror_mode": {
    "name": "ipython",
    "version": 3
   },
   "file_extension": ".py",
   "mimetype": "text/x-python",
   "name": "python",
   "nbconvert_exporter": "python",
   "pygments_lexer": "ipython3",
   "version": "3.8.12"
  }
 },
 "nbformat": 4,
 "nbformat_minor": 5
}
