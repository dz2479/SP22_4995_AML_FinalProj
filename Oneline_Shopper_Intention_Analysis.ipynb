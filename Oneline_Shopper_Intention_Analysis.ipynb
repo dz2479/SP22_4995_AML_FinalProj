{
 "cells": [
  {
   "cell_type": "code",
   "execution_count": null,
   "id": "7dc20a81",
   "metadata": {},
   "outputs": [],
   "source": [
    "import numpy as np\n",
    "import pandas as pd\n",
    "\n",
    "import matplotlib.pyplot as plt\n",
    "import seaborn as sns"
   ]
  },
  {
   "cell_type": "markdown",
   "id": "5792cdca",
   "metadata": {},
   "source": [
    "# 1. Data Visiualization"
   ]
  },
  {
   "cell_type": "code",
   "execution_count": null,
   "id": "df936d9e",
   "metadata": {},
   "outputs": [],
   "source": [
    "\"\"\"\n",
    "1. Data Import\n",
    "2. Basic Statistic Summary\n",
    "3. Numerical features exploration\n",
    "4. Categorical features exploration\n",
    "5. Missing Data Visualization\n",
    "\"\"\""
   ]
  },
  {
   "cell_type": "code",
   "execution_count": null,
   "id": "684eafca",
   "metadata": {},
   "outputs": [],
   "source": [
    "# reading the dataset\n",
    "data = pd.read_csv('./online_shoppers_intention.csv')\n",
    "# checking the shape of the data\n",
    "data.shape"
   ]
  },
  {
   "cell_type": "code",
   "execution_count": null,
   "id": "cbaef130",
   "metadata": {},
   "outputs": [],
   "source": [
    "# Summarize numerial features\n",
    "data[data.columns[:9]].describe()"
   ]
  },
  {
   "cell_type": "code",
   "execution_count": null,
   "id": "4cf38100",
   "metadata": {},
   "outputs": [],
   "source": [
    "# Summarize categorical features\n",
    "cat_features = ['SpecialDay', 'Month', 'OperatingSystems', 'Browser', 'Region', 'TrafficType', 'VisitorType', 'Weekend']\n",
    "fig, axes = plt.subplots(2, 4, figsize=(20, 8))\n",
    "for idx, cat in enumerate(cat_features):\n",
    "    stat_by_cat = data.groupby(by = [cat,'Revenue']).agg(count =('Revenue', 'count')).reset_index()\n",
    "    sns.barplot(ax = axes[idx//4, idx % 4], x = cat, y = 'count', hue='Revenue', data=stat_by_cat)"
   ]
  },
  {
   "cell_type": "code",
   "execution_count": null,
   "id": "f4bbaa59",
   "metadata": {},
   "outputs": [],
   "source": [
    "# Quantitative measures VS target\n",
    "\n",
    "# bounce rates vs revenue\n",
    "plt.subplot(1, 3, 1)\n",
    "sns.stripplot(data['Revenue'], data['BounceRates'], palette = 'magma')\n",
    "plt.title('Bounce Rates vs Revenue', fontsize = 20)\n",
    "plt.xlabel('Boune Rates', fontsize = 15)\n",
    "plt.ylabel('Revenue', fontsize = 15)\n",
    "\n",
    "# Exit rates vs revenue\n",
    "plt.subplot(1, 3, 2)\n",
    "sns.stripplot(data['Revenue'], data['ExitRates'], palette = 'autumn')\n",
    "plt.title('ExitRates vs Revenue', fontsize = 20)\n",
    "plt.xlabel('ExitRates', fontsize = 15)\n",
    "plt.ylabel('Revenue', fontsize = 15)\n",
    "\n",
    "# Page values vs revenue\n",
    "plt.subplot(1, 3, 3)\n",
    "sns.stripplot(data['Revenue'], data['PageValues'], palette = 'rainbow')\n",
    "plt.title('PageValues vs Revenue', fontsize = 20)\n",
    "plt.xlabel('PageValues', fontsize = 15)\n",
    "plt.ylabel('Revenue', fontsize = 15)"
   ]
  },
  {
   "cell_type": "code",
   "execution_count": null,
   "id": "69c5bfb3",
   "metadata": {},
   "outputs": [],
   "source": [
    "# Plot the percentages of missing data\n",
    "data_missing_perc = data.isnull().sum()/data.shape[0]\n",
    "fit = plt.figure(figsize = (20,6))\n",
    "ax = sns.barplot(x = data_missing_perc.index, y = data_missing_perc.values)\n",
    "ax.tick_params(axis = 'x', rotation=60)"
   ]
  },
  {
   "cell_type": "markdown",
   "id": "35e0b0c1",
   "metadata": {},
   "source": [
    "# 2. Data Cleaning"
   ]
  },
  {
   "cell_type": "code",
   "execution_count": 1,
   "id": "5b5282bd",
   "metadata": {},
   "outputs": [
    {
     "data": {
      "text/plain": [
       "'\\n1. Missing Data (Impute / delete)\\n2. Standardize?\\n3. Outliers?\\n4. Data Split\\n'"
      ]
     },
     "execution_count": 1,
     "metadata": {},
     "output_type": "execute_result"
    }
   ],
   "source": [
    "\"\"\"\n",
    "1. Missing Data (Impute / delete)\n",
    "2. Standardize?\n",
    "3. Outliers?\n",
    "4. Data Split\n",
    "\"\"\""
   ]
  },
  {
   "cell_type": "markdown",
   "id": "e15eb0da",
   "metadata": {},
   "source": [
    "# 3. Model Training"
   ]
  },
  {
   "cell_type": "code",
   "execution_count": null,
   "id": "b9433cca",
   "metadata": {},
   "outputs": [],
   "source": [
    "\"\"\"\n",
    "1. Hyperparameter Tuning\n",
    "2. Model Selection\n",
    "3. etc.,\n",
    "\"\"\""
   ]
  }
 ],
 "metadata": {
  "kernelspec": {
   "display_name": "Python 3",
   "language": "python",
   "name": "python3"
  },
  "language_info": {
   "codemirror_mode": {
    "name": "ipython",
    "version": 3
   },
   "file_extension": ".py",
   "mimetype": "text/x-python",
   "name": "python",
   "nbconvert_exporter": "python",
   "pygments_lexer": "ipython3",
   "version": "3.8.8"
  }
 },
 "nbformat": 4,
 "nbformat_minor": 5
}
