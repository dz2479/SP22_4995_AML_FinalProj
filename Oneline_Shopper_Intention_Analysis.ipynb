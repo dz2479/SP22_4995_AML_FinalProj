{
 "cells": [
  {
   "cell_type": "code",
   "execution_count": 232,
   "id": "7dc20a81",
   "metadata": {},
   "outputs": [],
   "source": [
    "import numpy as np\n",
    "import pandas as pd\n",
    "\n",
    "import matplotlib.pyplot as plt\n",
    "import seaborn as sns"
   ]
  },
  {
   "cell_type": "markdown",
   "id": "5792cdca",
   "metadata": {},
   "source": [
    "# 1. Data Visiualization"
   ]
  },
  {
   "cell_type": "code",
   "execution_count": 233,
   "id": "df936d9e",
   "metadata": {},
   "outputs": [
    {
     "data": {
      "text/plain": [
       "'\\n1. Data Import\\n2. Basic Statistic Summary\\n3. Numerical features exploration\\n4. Categorical features exploration\\n5. Missing Data Visualization\\n'"
      ]
     },
     "execution_count": 233,
     "metadata": {},
     "output_type": "execute_result"
    }
   ],
   "source": [
    "\"\"\"\n",
    "1. Data Import\n",
    "2. Basic Statistic Summary\n",
    "3. Numerical features exploration\n",
    "4. Categorical features exploration\n",
    "5. Missing Data Visualization\n",
    "\"\"\""
   ]
  },
  {
   "cell_type": "code",
   "execution_count": 234,
   "id": "684eafca",
   "metadata": {},
   "outputs": [
    {
     "data": {
      "text/plain": [
       "(12330, 18)"
      ]
     },
     "execution_count": 234,
     "metadata": {},
     "output_type": "execute_result"
    }
   ],
   "source": [
    "# reading the dataset\n",
    "data = pd.read_csv('./online_shoppers_intention.csv')\n",
    "# checking the shape of the data\n",
    "data.shape"
   ]
  },
  {
   "cell_type": "code",
   "execution_count": 235,
   "id": "cbaef130",
   "metadata": {},
   "outputs": [
    {
     "data": {
      "text/html": [
       "<div>\n",
       "<style scoped>\n",
       "    .dataframe tbody tr th:only-of-type {\n",
       "        vertical-align: middle;\n",
       "    }\n",
       "\n",
       "    .dataframe tbody tr th {\n",
       "        vertical-align: top;\n",
       "    }\n",
       "\n",
       "    .dataframe thead th {\n",
       "        text-align: right;\n",
       "    }\n",
       "</style>\n",
       "<table border=\"1\" class=\"dataframe\">\n",
       "  <thead>\n",
       "    <tr style=\"text-align: right;\">\n",
       "      <th></th>\n",
       "      <th>Administrative</th>\n",
       "      <th>Administrative_Duration</th>\n",
       "      <th>Informational</th>\n",
       "      <th>Informational_Duration</th>\n",
       "      <th>ProductRelated</th>\n",
       "      <th>ProductRelated_Duration</th>\n",
       "      <th>BounceRates</th>\n",
       "      <th>ExitRates</th>\n",
       "      <th>PageValues</th>\n",
       "    </tr>\n",
       "  </thead>\n",
       "  <tbody>\n",
       "    <tr>\n",
       "      <th>count</th>\n",
       "      <td>12330.000000</td>\n",
       "      <td>12330.000000</td>\n",
       "      <td>12330.000000</td>\n",
       "      <td>12330.000000</td>\n",
       "      <td>12330.000000</td>\n",
       "      <td>12330.000000</td>\n",
       "      <td>12330.000000</td>\n",
       "      <td>12330.000000</td>\n",
       "      <td>12330.000000</td>\n",
       "    </tr>\n",
       "    <tr>\n",
       "      <th>mean</th>\n",
       "      <td>2.315166</td>\n",
       "      <td>80.818611</td>\n",
       "      <td>0.503569</td>\n",
       "      <td>34.472398</td>\n",
       "      <td>31.731468</td>\n",
       "      <td>1194.746220</td>\n",
       "      <td>0.022191</td>\n",
       "      <td>0.043073</td>\n",
       "      <td>5.889258</td>\n",
       "    </tr>\n",
       "    <tr>\n",
       "      <th>std</th>\n",
       "      <td>3.321784</td>\n",
       "      <td>176.779107</td>\n",
       "      <td>1.270156</td>\n",
       "      <td>140.749294</td>\n",
       "      <td>44.475503</td>\n",
       "      <td>1913.669288</td>\n",
       "      <td>0.048488</td>\n",
       "      <td>0.048597</td>\n",
       "      <td>18.568437</td>\n",
       "    </tr>\n",
       "    <tr>\n",
       "      <th>min</th>\n",
       "      <td>0.000000</td>\n",
       "      <td>0.000000</td>\n",
       "      <td>0.000000</td>\n",
       "      <td>0.000000</td>\n",
       "      <td>0.000000</td>\n",
       "      <td>0.000000</td>\n",
       "      <td>0.000000</td>\n",
       "      <td>0.000000</td>\n",
       "      <td>0.000000</td>\n",
       "    </tr>\n",
       "    <tr>\n",
       "      <th>25%</th>\n",
       "      <td>0.000000</td>\n",
       "      <td>0.000000</td>\n",
       "      <td>0.000000</td>\n",
       "      <td>0.000000</td>\n",
       "      <td>7.000000</td>\n",
       "      <td>184.137500</td>\n",
       "      <td>0.000000</td>\n",
       "      <td>0.014286</td>\n",
       "      <td>0.000000</td>\n",
       "    </tr>\n",
       "    <tr>\n",
       "      <th>50%</th>\n",
       "      <td>1.000000</td>\n",
       "      <td>7.500000</td>\n",
       "      <td>0.000000</td>\n",
       "      <td>0.000000</td>\n",
       "      <td>18.000000</td>\n",
       "      <td>598.936905</td>\n",
       "      <td>0.003112</td>\n",
       "      <td>0.025156</td>\n",
       "      <td>0.000000</td>\n",
       "    </tr>\n",
       "    <tr>\n",
       "      <th>75%</th>\n",
       "      <td>4.000000</td>\n",
       "      <td>93.256250</td>\n",
       "      <td>0.000000</td>\n",
       "      <td>0.000000</td>\n",
       "      <td>38.000000</td>\n",
       "      <td>1464.157214</td>\n",
       "      <td>0.016813</td>\n",
       "      <td>0.050000</td>\n",
       "      <td>0.000000</td>\n",
       "    </tr>\n",
       "    <tr>\n",
       "      <th>max</th>\n",
       "      <td>27.000000</td>\n",
       "      <td>3398.750000</td>\n",
       "      <td>24.000000</td>\n",
       "      <td>2549.375000</td>\n",
       "      <td>705.000000</td>\n",
       "      <td>63973.522230</td>\n",
       "      <td>0.200000</td>\n",
       "      <td>0.200000</td>\n",
       "      <td>361.763742</td>\n",
       "    </tr>\n",
       "  </tbody>\n",
       "</table>\n",
       "</div>"
      ],
      "text/plain": [
       "       Administrative  Administrative_Duration  Informational  \\\n",
       "count    12330.000000             12330.000000   12330.000000   \n",
       "mean         2.315166                80.818611       0.503569   \n",
       "std          3.321784               176.779107       1.270156   \n",
       "min          0.000000                 0.000000       0.000000   \n",
       "25%          0.000000                 0.000000       0.000000   \n",
       "50%          1.000000                 7.500000       0.000000   \n",
       "75%          4.000000                93.256250       0.000000   \n",
       "max         27.000000              3398.750000      24.000000   \n",
       "\n",
       "       Informational_Duration  ProductRelated  ProductRelated_Duration  \\\n",
       "count            12330.000000    12330.000000             12330.000000   \n",
       "mean                34.472398       31.731468              1194.746220   \n",
       "std                140.749294       44.475503              1913.669288   \n",
       "min                  0.000000        0.000000                 0.000000   \n",
       "25%                  0.000000        7.000000               184.137500   \n",
       "50%                  0.000000       18.000000               598.936905   \n",
       "75%                  0.000000       38.000000              1464.157214   \n",
       "max               2549.375000      705.000000             63973.522230   \n",
       "\n",
       "        BounceRates     ExitRates    PageValues  \n",
       "count  12330.000000  12330.000000  12330.000000  \n",
       "mean       0.022191      0.043073      5.889258  \n",
       "std        0.048488      0.048597     18.568437  \n",
       "min        0.000000      0.000000      0.000000  \n",
       "25%        0.000000      0.014286      0.000000  \n",
       "50%        0.003112      0.025156      0.000000  \n",
       "75%        0.016813      0.050000      0.000000  \n",
       "max        0.200000      0.200000    361.763742  "
      ]
     },
     "execution_count": 235,
     "metadata": {},
     "output_type": "execute_result"
    }
   ],
   "source": [
    "# Summarize numerial features\n",
    "data[data.columns[:9]].describe()"
   ]
  },
  {
   "cell_type": "code",
   "execution_count": 236,
   "id": "4cf38100",
   "metadata": {},
   "outputs": [
    {
     "data": {
      "image/png": "[encoded data removed]",
      "text/plain": [
       "<Figure size 1440x576 with 8 Axes>"
      ]
     },
     "metadata": {
      "needs_background": "light"
     },
     "output_type": "display_data"
    }
   ],
   "source": [
    "# Summarize categorical features\n",
    "cat_features = ['SpecialDay', 'Month', 'OperatingSystems', 'Browser', 'Region', 'TrafficType', 'VisitorType', 'Weekend']\n",
    "fig, axes = plt.subplots(2, 4, figsize=(20, 8))\n",
    "for idx, cat in enumerate(cat_features):\n",
    "    stat_by_cat = data.groupby(by = [cat,'Revenue']).agg(count =('Revenue', 'count')).reset_index()\n",
    "    sns.barplot(ax = axes[idx//4, idx % 4], x = cat, y = 'count', hue='Revenue', data=stat_by_cat)"
   ]
  },
  {
   "cell_type": "code",
   "execution_count": 237,
   "id": "f4bbaa59",
   "metadata": {},
   "outputs": [
    {
     "name": "stderr",
     "output_type": "stream",
     "text": [
      "C:\\Users\\elinw\\anaconda3\\lib\\site-packages\\seaborn\\_decorators.py:36: FutureWarning: Pass the following variables as keyword args: x, y. From version 0.12, the only valid positional argument will be `data`, and passing other arguments without an explicit keyword will result in an error or misinterpretation.\n",
      "  warnings.warn(\n",
      "C:\\Users\\elinw\\anaconda3\\lib\\site-packages\\seaborn\\_decorators.py:36: FutureWarning: Pass the following variables as keyword args: x, y. From version 0.12, the only valid positional argument will be `data`, and passing other arguments without an explicit keyword will result in an error or misinterpretation.\n",
      "  warnings.warn(\n",
      "C:\\Users\\elinw\\anaconda3\\lib\\site-packages\\seaborn\\_decorators.py:36: FutureWarning: Pass the following variables as keyword args: x, y. From version 0.12, the only valid positional argument will be `data`, and passing other arguments without an explicit keyword will result in an error or misinterpretation.\n",
      "  warnings.warn(\n"
     ]
    },
    {
     "data": {
      "text/plain": [
       "Text(0, 0.5, 'Revenue')"
      ]
     },
     "execution_count": 237,
     "metadata": {},
     "output_type": "execute_result"
    },
    {
     "data": {
      "image/png": "[encoded data removed]",
      "text/plain": [
       "<Figure size 432x288 with 3 Axes>"
      ]
     },
     "metadata": {
      "needs_background": "light"
     },
     "output_type": "display_data"
    }
   ],
   "source": [
    "# Quantitative measures VS target\n",
    "\n",
    "# bounce rates vs revenue\n",
    "plt.subplot(1, 3, 1)\n",
    "sns.stripplot(data['Revenue'], data['BounceRates'], palette = 'magma')\n",
    "plt.title('Bounce Rates vs Revenue', fontsize = 20)\n",
    "plt.xlabel('Boune Rates', fontsize = 15)\n",
    "plt.ylabel('Revenue', fontsize = 15)\n",
    "\n",
    "# Exit rates vs revenue\n",
    "plt.subplot(1, 3, 2)\n",
    "sns.stripplot(data['Revenue'], data['ExitRates'], palette = 'autumn')\n",
    "plt.title('ExitRates vs Revenue', fontsize = 20)\n",
    "plt.xlabel('ExitRates', fontsize = 15)\n",
    "plt.ylabel('Revenue', fontsize = 15)\n",
    "\n",
    "# Page values vs revenue\n",
    "plt.subplot(1, 3, 3)\n",
    "sns.stripplot(data['Revenue'], data['PageValues'], palette = 'rainbow')\n",
    "plt.title('PageValues vs Revenue', fontsize = 20)\n",
    "plt.xlabel('PageValues', fontsize = 15)\n",
    "plt.ylabel('Revenue', fontsize = 15)"
   ]
  },
  {
   "cell_type": "code",
   "execution_count": 238,
   "id": "69c5bfb3",
   "metadata": {},
   "outputs": [
    {
     "data": {
      "image/png": "[encoded data removed]",
      "text/plain": [
       "<Figure size 1440x432 with 1 Axes>"
      ]
     },
     "metadata": {
      "needs_background": "light"
     },
     "output_type": "display_data"
    }
   ],
   "source": [
    "# Plot the percentages of missing data\n",
    "data_missing_perc = data.isnull().sum()/data.shape[0]\n",
    "fit = plt.figure(figsize = (20,6))\n",
    "ax = sns.barplot(x = data_missing_perc.index, y = data_missing_perc.values)\n",
    "ax.tick_params(axis = 'x', rotation=60)"
   ]
  },
  {
   "cell_type": "markdown",
   "id": "35e0b0c1",
   "metadata": {},
   "source": [
    "# 2. Data Cleaning"
   ]
  },
  {
   "cell_type": "code",
   "execution_count": 239,
   "id": "9b482424",
   "metadata": {},
   "outputs": [
    {
     "data": {
      "text/plain": [
       "'\\n1. Missing Data (Impute / delete)\\n2. Standardize?\\n3. Outliers?\\n4. Data Split\\n'"
      ]
     },
     "execution_count": 239,
     "metadata": {},
     "output_type": "execute_result"
    }
   ],
   "source": [
    "\"\"\"\n",
    "1. Missing Data (Impute / delete)\n",
    "2. Standardize?\n",
    "3. Outliers?\n",
    "4. Data Split\n",
    "\"\"\""
   ]
  },
  {
   "cell_type": "code",
   "execution_count": 240,
   "id": "a8a67e36",
   "metadata": {},
   "outputs": [
    {
     "name": "stdout",
     "output_type": "stream",
     "text": [
      "<class 'pandas.core.frame.DataFrame'>\n",
      "RangeIndex: 12330 entries, 0 to 12329\n",
      "Data columns (total 18 columns):\n",
      " #   Column                   Non-Null Count  Dtype  \n",
      "---  ------                   --------------  -----  \n",
      " 0   Administrative           12330 non-null  int64  \n",
      " 1   Administrative_Duration  12330 non-null  float64\n",
      " 2   Informational            12330 non-null  int64  \n",
      " 3   Informational_Duration   12330 non-null  float64\n",
      " 4   ProductRelated           12330 non-null  int64  \n",
      " 5   ProductRelated_Duration  12330 non-null  float64\n",
      " 6   BounceRates              12330 non-null  float64\n",
      " 7   ExitRates                12330 non-null  float64\n",
      " 8   PageValues               12330 non-null  float64\n",
      " 9   SpecialDay               12330 non-null  float64\n",
      " 10  Month                    12330 non-null  object \n",
      " 11  OperatingSystems         12330 non-null  int64  \n",
      " 12  Browser                  12330 non-null  int64  \n",
      " 13  Region                   12330 non-null  int64  \n",
      " 14  TrafficType              12330 non-null  int64  \n",
      " 15  VisitorType              12330 non-null  object \n",
      " 16  Weekend                  12330 non-null  bool   \n",
      " 17  Revenue                  12330 non-null  bool   \n",
      "dtypes: bool(2), float64(7), int64(7), object(2)\n",
      "memory usage: 1.5+ MB\n"
     ]
    }
   ],
   "source": [
    "# Missing Data\n",
    "data.info()"
   ]
  },
  {
   "cell_type": "code",
   "execution_count": 241,
   "id": "ed27443f",
   "metadata": {},
   "outputs": [
    {
     "data": {
      "text/plain": [
       "Administrative             0\n",
       "Administrative_Duration    0\n",
       "Informational              0\n",
       "Informational_Duration     0\n",
       "ProductRelated             0\n",
       "ProductRelated_Duration    0\n",
       "BounceRates                0\n",
       "ExitRates                  0\n",
       "PageValues                 0\n",
       "SpecialDay                 0\n",
       "Month                      0\n",
       "OperatingSystems           0\n",
       "Browser                    0\n",
       "Region                     0\n",
       "TrafficType                0\n",
       "VisitorType                0\n",
       "Weekend                    0\n",
       "Revenue                    0\n",
       "dtype: int64"
      ]
     },
     "execution_count": 241,
     "metadata": {},
     "output_type": "execute_result"
    }
   ],
   "source": [
    "# Impute the missing values with mean\n",
    "# Since the percentage of missing values is low, we impute the missing values with mean.\n",
    "from sklearn.impute import SimpleImputer\n",
    "\n",
    "columns = []\n",
    "imp_mean = SimpleImputer(missing_values=np.nan, strategy='mean')\n",
    "for col in columns:\n",
    "    imputed_col = imp_mean.fit_transform(np.array(data[col]).reshape(-1,1))\n",
    "    data.drop([col], axis=1)\n",
    "    data[col] = imputed_col\n",
    "    \n",
    "# To confirm no missing values left (i.e., sum should be 0)\n",
    "data.isna().sum()"
   ]
  },
  {
   "cell_type": "code",
   "execution_count": 242,
   "id": "65bd374a",
   "metadata": {},
   "outputs": [
    {
     "name": "stdout",
     "output_type": "stream",
     "text": [
      "False    0.845255\n",
      "True     0.154745\n",
      "Name: Revenue, dtype: float64\n"
     ]
    }
   ],
   "source": [
    "# Split dataset into development and test datasets.\n",
    "\n",
    "print(data['Revenue'].value_counts()/len(data))\n",
    "\n",
    "# Since the dataset is imbalanced, we use stratified dataset split.\n",
    "from sklearn.model_selection import train_test_split\n",
    "\n",
    "y = data['Revenue']\n",
    "X = data.drop(['Revenue'], axis=1)\n",
    "\n",
    "X_dev, X_test, y_dev, y_test = train_test_split(X, y, test_size=0.2, stratify=y, random_state=0) "
   ]
  },
  {
   "cell_type": "code",
   "execution_count": 243,
   "id": "8a744322",
   "metadata": {},
   "outputs": [
    {
     "data": {
      "text/plain": [
       "False    0.845296\n",
       "True     0.154704\n",
       "Name: Revenue, dtype: float64"
      ]
     },
     "execution_count": 243,
     "metadata": {},
     "output_type": "execute_result"
    }
   ],
   "source": [
    "y_dev.value_counts()/len(y_dev)"
   ]
  },
  {
   "cell_type": "code",
   "execution_count": 244,
   "id": "22cdec59",
   "metadata": {},
   "outputs": [
    {
     "data": {
      "text/plain": [
       "False    0.845093\n",
       "True     0.154907\n",
       "Name: Revenue, dtype: float64"
      ]
     },
     "execution_count": 244,
     "metadata": {},
     "output_type": "execute_result"
    }
   ],
   "source": [
    "y_test.value_counts()/len(y_test)"
   ]
  },
  {
   "cell_type": "code",
   "execution_count": 245,
   "id": "cfd7ff3c",
   "metadata": {},
   "outputs": [],
   "source": [
    "# Apply Standard Scaling to numerical features\n",
    "X_dev_num = X_dev[X_dev.columns[:9]]\n",
    "X_test_num = X_test[X_dev.columns[:9]]\n",
    "\n",
    "from sklearn.preprocessing import StandardScaler\n",
    "ss = StandardScaler()\n",
    "X_dev_num_scaled = ss.fit_transform(X_dev_num)\n",
    "X_test_num_scaled = ss.transform(X_test_num)\n",
    "\n",
    "X_dev_scaled = pd.concat([pd.DataFrame(X_dev_num_scaled, columns=X_dev_num.columns), X_dev[X_dev.columns[9:]]], axis=1)\n",
    "X_test_scaled = pd.concat([pd.DataFrame(X_test_num_scaled, columns=X_test_num.columns), X_test[X_dev.columns[9:]]], axis=1)"
   ]
  },
  {
   "cell_type": "code",
   "execution_count": 246,
   "id": "4a75bd4b",
   "metadata": {},
   "outputs": [
    {
     "name": "stdout",
     "output_type": "stream",
     "text": [
      "(11844, 17)\n",
      "(4456, 17)\n"
     ]
    }
   ],
   "source": [
    "print(X_dev_scaled.shape)\n",
    "print(X_test_scaled.shape)"
   ]
  },
  {
   "cell_type": "code",
   "execution_count": 247,
   "id": "ed2da2a5",
   "metadata": {},
   "outputs": [
    {
     "data": {
      "text/html": [
       "<div>\n",
       "<style scoped>\n",
       "    .dataframe tbody tr th:only-of-type {\n",
       "        vertical-align: middle;\n",
       "    }\n",
       "\n",
       "    .dataframe tbody tr th {\n",
       "        vertical-align: top;\n",
       "    }\n",
       "\n",
       "    .dataframe thead th {\n",
       "        text-align: right;\n",
       "    }\n",
       "</style>\n",
       "<table border=\"1\" class=\"dataframe\">\n",
       "  <thead>\n",
       "    <tr style=\"text-align: right;\">\n",
       "      <th></th>\n",
       "      <th>Administrative</th>\n",
       "      <th>Administrative_Duration</th>\n",
       "      <th>Informational</th>\n",
       "      <th>Informational_Duration</th>\n",
       "      <th>ProductRelated</th>\n",
       "      <th>ProductRelated_Duration</th>\n",
       "      <th>BounceRates</th>\n",
       "      <th>ExitRates</th>\n",
       "      <th>PageValues</th>\n",
       "    </tr>\n",
       "  </thead>\n",
       "  <tbody>\n",
       "    <tr>\n",
       "      <th>count</th>\n",
       "      <td>9.864000e+03</td>\n",
       "      <td>9.864000e+03</td>\n",
       "      <td>9.864000e+03</td>\n",
       "      <td>9.864000e+03</td>\n",
       "      <td>9.864000e+03</td>\n",
       "      <td>9.864000e+03</td>\n",
       "      <td>9.864000e+03</td>\n",
       "      <td>9.864000e+03</td>\n",
       "      <td>9.864000e+03</td>\n",
       "    </tr>\n",
       "    <tr>\n",
       "      <th>mean</th>\n",
       "      <td>-3.219692e-16</td>\n",
       "      <td>-1.325537e-16</td>\n",
       "      <td>1.319121e-15</td>\n",
       "      <td>1.342701e-16</td>\n",
       "      <td>-2.495863e-17</td>\n",
       "      <td>1.248888e-16</td>\n",
       "      <td>-1.140050e-16</td>\n",
       "      <td>2.144698e-16</td>\n",
       "      <td>-1.640719e-15</td>\n",
       "    </tr>\n",
       "    <tr>\n",
       "      <th>std</th>\n",
       "      <td>1.000051e+00</td>\n",
       "      <td>1.000051e+00</td>\n",
       "      <td>1.000051e+00</td>\n",
       "      <td>1.000051e+00</td>\n",
       "      <td>1.000051e+00</td>\n",
       "      <td>1.000051e+00</td>\n",
       "      <td>1.000051e+00</td>\n",
       "      <td>1.000051e+00</td>\n",
       "      <td>1.000051e+00</td>\n",
       "    </tr>\n",
       "    <tr>\n",
       "      <th>min</th>\n",
       "      <td>-6.983487e-01</td>\n",
       "      <td>-4.673592e-01</td>\n",
       "      <td>-3.910914e-01</td>\n",
       "      <td>-2.440321e-01</td>\n",
       "      <td>-7.072818e-01</td>\n",
       "      <td>-6.406328e-01</td>\n",
       "      <td>-4.596831e-01</td>\n",
       "      <td>-8.822312e-01</td>\n",
       "      <td>-3.205247e-01</td>\n",
       "    </tr>\n",
       "    <tr>\n",
       "      <th>25%</th>\n",
       "      <td>-6.983487e-01</td>\n",
       "      <td>-4.673592e-01</td>\n",
       "      <td>-3.910914e-01</td>\n",
       "      <td>-2.440321e-01</td>\n",
       "      <td>-5.515059e-01</td>\n",
       "      <td>-5.428911e-01</td>\n",
       "      <td>-4.596831e-01</td>\n",
       "      <td>-5.903847e-01</td>\n",
       "      <td>-3.205247e-01</td>\n",
       "    </tr>\n",
       "    <tr>\n",
       "      <th>50%</th>\n",
       "      <td>-3.980779e-01</td>\n",
       "      <td>-4.202519e-01</td>\n",
       "      <td>-3.910914e-01</td>\n",
       "      <td>-2.440321e-01</td>\n",
       "      <td>-3.067150e-01</td>\n",
       "      <td>-3.204794e-01</td>\n",
       "      <td>-3.950064e-01</td>\n",
       "      <td>-3.646206e-01</td>\n",
       "      <td>-3.205247e-01</td>\n",
       "    </tr>\n",
       "    <tr>\n",
       "      <th>75%</th>\n",
       "      <td>5.027344e-01</td>\n",
       "      <td>7.812848e-02</td>\n",
       "      <td>-3.910914e-01</td>\n",
       "      <td>-2.440321e-01</td>\n",
       "      <td>1.383593e-01</td>\n",
       "      <td>1.495635e-01</td>\n",
       "      <td>-1.123564e-01</td>\n",
       "      <td>1.392314e-01</td>\n",
       "      <td>-3.205247e-01</td>\n",
       "    </tr>\n",
       "    <tr>\n",
       "      <th>max</th>\n",
       "      <td>7.408962e+00</td>\n",
       "      <td>1.518002e+01</td>\n",
       "      <td>1.822652e+01</td>\n",
       "      <td>1.588038e+01</td>\n",
       "      <td>1.498159e+01</td>\n",
       "      <td>2.255209e+01</td>\n",
       "      <td>3.621405e+00</td>\n",
       "      <td>3.203619e+00</td>\n",
       "      <td>1.966310e+01</td>\n",
       "    </tr>\n",
       "  </tbody>\n",
       "</table>\n",
       "</div>"
      ],
      "text/plain": [
       "       Administrative  Administrative_Duration  Informational  \\\n",
       "count    9.864000e+03             9.864000e+03   9.864000e+03   \n",
       "mean    -3.219692e-16            -1.325537e-16   1.319121e-15   \n",
       "std      1.000051e+00             1.000051e+00   1.000051e+00   \n",
       "min     -6.983487e-01            -4.673592e-01  -3.910914e-01   \n",
       "25%     -6.983487e-01            -4.673592e-01  -3.910914e-01   \n",
       "50%     -3.980779e-01            -4.202519e-01  -3.910914e-01   \n",
       "75%      5.027344e-01             7.812848e-02  -3.910914e-01   \n",
       "max      7.408962e+00             1.518002e+01   1.822652e+01   \n",
       "\n",
       "       Informational_Duration  ProductRelated  ProductRelated_Duration  \\\n",
       "count            9.864000e+03    9.864000e+03             9.864000e+03   \n",
       "mean             1.342701e-16   -2.495863e-17             1.248888e-16   \n",
       "std              1.000051e+00    1.000051e+00             1.000051e+00   \n",
       "min             -2.440321e-01   -7.072818e-01            -6.406328e-01   \n",
       "25%             -2.440321e-01   -5.515059e-01            -5.428911e-01   \n",
       "50%             -2.440321e-01   -3.067150e-01            -3.204794e-01   \n",
       "75%             -2.440321e-01    1.383593e-01             1.495635e-01   \n",
       "max              1.588038e+01    1.498159e+01             2.255209e+01   \n",
       "\n",
       "        BounceRates     ExitRates    PageValues  \n",
       "count  9.864000e+03  9.864000e+03  9.864000e+03  \n",
       "mean  -1.140050e-16  2.144698e-16 -1.640719e-15  \n",
       "std    1.000051e+00  1.000051e+00  1.000051e+00  \n",
       "min   -4.596831e-01 -8.822312e-01 -3.205247e-01  \n",
       "25%   -4.596831e-01 -5.903847e-01 -3.205247e-01  \n",
       "50%   -3.950064e-01 -3.646206e-01 -3.205247e-01  \n",
       "75%   -1.123564e-01  1.392314e-01 -3.205247e-01  \n",
       "max    3.621405e+00  3.203619e+00  1.966310e+01  "
      ]
     },
     "execution_count": 247,
     "metadata": {},
     "output_type": "execute_result"
    }
   ],
   "source": [
    "X_dev_scaled[X_dev_scaled.columns[:9]].describe()"
   ]
  },
  {
   "cell_type": "code",
   "execution_count": 248,
   "id": "e9e03135",
   "metadata": {},
   "outputs": [
    {
     "data": {
      "text/html": [
       "<div>\n",
       "<style scoped>\n",
       "    .dataframe tbody tr th:only-of-type {\n",
       "        vertical-align: middle;\n",
       "    }\n",
       "\n",
       "    .dataframe tbody tr th {\n",
       "        vertical-align: top;\n",
       "    }\n",
       "\n",
       "    .dataframe thead th {\n",
       "        text-align: right;\n",
       "    }\n",
       "</style>\n",
       "<table border=\"1\" class=\"dataframe\">\n",
       "  <thead>\n",
       "    <tr style=\"text-align: right;\">\n",
       "      <th></th>\n",
       "      <th>Administrative</th>\n",
       "      <th>Administrative_Duration</th>\n",
       "      <th>Informational</th>\n",
       "      <th>Informational_Duration</th>\n",
       "      <th>ProductRelated</th>\n",
       "      <th>ProductRelated_Duration</th>\n",
       "      <th>BounceRates</th>\n",
       "      <th>ExitRates</th>\n",
       "      <th>PageValues</th>\n",
       "    </tr>\n",
       "  </thead>\n",
       "  <tbody>\n",
       "    <tr>\n",
       "      <th>count</th>\n",
       "      <td>2466.000000</td>\n",
       "      <td>2466.000000</td>\n",
       "      <td>2466.000000</td>\n",
       "      <td>2466.000000</td>\n",
       "      <td>2466.000000</td>\n",
       "      <td>2466.000000</td>\n",
       "      <td>2466.000000</td>\n",
       "      <td>2466.000000</td>\n",
       "      <td>2466.000000</td>\n",
       "    </tr>\n",
       "    <tr>\n",
       "      <th>mean</th>\n",
       "      <td>-0.015860</td>\n",
       "      <td>0.042670</td>\n",
       "      <td>-0.002281</td>\n",
       "      <td>0.011270</td>\n",
       "      <td>-0.005694</td>\n",
       "      <td>0.006082</td>\n",
       "      <td>-0.034291</td>\n",
       "      <td>-0.011431</td>\n",
       "      <td>0.023973</td>\n",
       "    </tr>\n",
       "    <tr>\n",
       "      <th>std</th>\n",
       "      <td>0.987000</td>\n",
       "      <td>1.190186</td>\n",
       "      <td>0.924156</td>\n",
       "      <td>1.027535</td>\n",
       "      <td>0.947585</td>\n",
       "      <td>1.133463</td>\n",
       "      <td>0.945431</td>\n",
       "      <td>0.963349</td>\n",
       "      <td>1.122511</td>\n",
       "    </tr>\n",
       "    <tr>\n",
       "      <th>min</th>\n",
       "      <td>-0.698349</td>\n",
       "      <td>-0.467359</td>\n",
       "      <td>-0.391091</td>\n",
       "      <td>-0.244032</td>\n",
       "      <td>-0.707282</td>\n",
       "      <td>-0.640633</td>\n",
       "      <td>-0.459683</td>\n",
       "      <td>-0.882231</td>\n",
       "      <td>-0.320525</td>\n",
       "    </tr>\n",
       "    <tr>\n",
       "      <th>25%</th>\n",
       "      <td>-0.698349</td>\n",
       "      <td>-0.467359</td>\n",
       "      <td>-0.391091</td>\n",
       "      <td>-0.244032</td>\n",
       "      <td>-0.551506</td>\n",
       "      <td>-0.533859</td>\n",
       "      <td>-0.459683</td>\n",
       "      <td>-0.590385</td>\n",
       "      <td>-0.320525</td>\n",
       "    </tr>\n",
       "    <tr>\n",
       "      <th>50%</th>\n",
       "      <td>-0.398078</td>\n",
       "      <td>-0.426140</td>\n",
       "      <td>-0.391091</td>\n",
       "      <td>-0.244032</td>\n",
       "      <td>-0.306715</td>\n",
       "      <td>-0.313209</td>\n",
       "      <td>-0.401214</td>\n",
       "      <td>-0.371500</td>\n",
       "      <td>-0.320525</td>\n",
       "    </tr>\n",
       "    <tr>\n",
       "      <th>75%</th>\n",
       "      <td>0.202464</td>\n",
       "      <td>0.094837</td>\n",
       "      <td>-0.391091</td>\n",
       "      <td>-0.244032</td>\n",
       "      <td>0.138359</td>\n",
       "      <td>0.133655</td>\n",
       "      <td>-0.119592</td>\n",
       "      <td>0.139231</td>\n",
       "      <td>-0.320525</td>\n",
       "    </tr>\n",
       "    <tr>\n",
       "      <th>max</th>\n",
       "      <td>6.508150</td>\n",
       "      <td>19.545878</td>\n",
       "      <td>8.917716</td>\n",
       "      <td>17.969837</td>\n",
       "      <td>11.176201</td>\n",
       "      <td>33.727630</td>\n",
       "      <td>3.621405</td>\n",
       "      <td>3.203619</td>\n",
       "      <td>19.618339</td>\n",
       "    </tr>\n",
       "  </tbody>\n",
       "</table>\n",
       "</div>"
      ],
      "text/plain": [
       "       Administrative  Administrative_Duration  Informational  \\\n",
       "count     2466.000000              2466.000000    2466.000000   \n",
       "mean        -0.015860                 0.042670      -0.002281   \n",
       "std          0.987000                 1.190186       0.924156   \n",
       "min         -0.698349                -0.467359      -0.391091   \n",
       "25%         -0.698349                -0.467359      -0.391091   \n",
       "50%         -0.398078                -0.426140      -0.391091   \n",
       "75%          0.202464                 0.094837      -0.391091   \n",
       "max          6.508150                19.545878       8.917716   \n",
       "\n",
       "       Informational_Duration  ProductRelated  ProductRelated_Duration  \\\n",
       "count             2466.000000     2466.000000              2466.000000   \n",
       "mean                 0.011270       -0.005694                 0.006082   \n",
       "std                  1.027535        0.947585                 1.133463   \n",
       "min                 -0.244032       -0.707282                -0.640633   \n",
       "25%                 -0.244032       -0.551506                -0.533859   \n",
       "50%                 -0.244032       -0.306715                -0.313209   \n",
       "75%                 -0.244032        0.138359                 0.133655   \n",
       "max                 17.969837       11.176201                33.727630   \n",
       "\n",
       "       BounceRates    ExitRates   PageValues  \n",
       "count  2466.000000  2466.000000  2466.000000  \n",
       "mean     -0.034291    -0.011431     0.023973  \n",
       "std       0.945431     0.963349     1.122511  \n",
       "min      -0.459683    -0.882231    -0.320525  \n",
       "25%      -0.459683    -0.590385    -0.320525  \n",
       "50%      -0.401214    -0.371500    -0.320525  \n",
       "75%      -0.119592     0.139231    -0.320525  \n",
       "max       3.621405     3.203619    19.618339  "
      ]
     },
     "execution_count": 248,
     "metadata": {},
     "output_type": "execute_result"
    }
   ],
   "source": [
    "X_test_scaled[X_test_scaled.columns[:9]].describe()"
   ]
  },
  {
   "cell_type": "markdown",
   "id": "f0dcff33",
   "metadata": {},
   "source": [
    "Outliers are left intact because depending on the model we train, outliers may not negatively impact the results."
   ]
  },
  {
   "cell_type": "markdown",
   "id": "e15eb0da",
   "metadata": {},
   "source": [
    "# 3. Model Training"
   ]
  },
  {
   "cell_type": "code",
   "execution_count": 251,
   "id": "b9433cca",
   "metadata": {},
   "outputs": [
    {
     "data": {
      "text/plain": [
       "'\\n1. Hyperparameter Tuning\\n2. Model Selection\\n3. etc.,\\n'"
      ]
     },
     "execution_count": 251,
     "metadata": {},
     "output_type": "execute_result"
    }
   ],
   "source": [
    "\"\"\"\n",
    "1. Hyperparameter Tuning\n",
    "2. Model Selection\n",
    "3. etc.,\n",
    "\"\"\""
   ]
  }
 ],
 "metadata": {
  "kernelspec": {
   "display_name": "Python 3 (ipykernel)",
   "language": "python",
   "name": "python3"
  },
  "language_info": {
   "codemirror_mode": {
    "name": "ipython",
    "version": 3
   },
   "file_extension": ".py",
   "mimetype": "text/x-python",
   "name": "python",
   "nbconvert_exporter": "python",
   "pygments_lexer": "ipython3",
   "version": "3.8.12"
  }
 },
 "nbformat": 4,
 "nbformat_minor": 5
}
